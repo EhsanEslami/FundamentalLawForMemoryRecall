{
 "cells": [
  {
   "cell_type": "markdown",
   "id": "5117be89",
   "metadata": {},
   "source": [
    "## Fundamental Law of Memory Recall ( Parallel Implementation)"
   ]
  },
  {
   "cell_type": "code",
   "execution_count": 38,
   "id": "694f2d0d",
   "metadata": {},
   "outputs": [],
   "source": [
    "import numpy as np\n",
    "import time\n",
    "import numpy.random as npr\n",
    "import matplotlib.pyplot as plt\n",
    "import dask\n",
    "from dask.distributed import Client, LocalCluster"
   ]
  },
  {
   "cell_type": "code",
   "execution_count": 23,
   "id": "6793e53f",
   "metadata": {},
   "outputs": [],
   "source": [
    "def m_th_largest_index(nums , m):\n",
    "    \n",
    "    # Convert the list to a numpy array\n",
    "    arr = np.array(nums)\n",
    "    \n",
    "    # Find the indices that would sort the array in descending order\n",
    "    sorted_indices = np.argsort(arr)[::-1]\n",
    "    \n",
    "    # Return the index of the mth largest number\n",
    "    return sorted_indices[m - 1]"
   ]
  },
  {
   "cell_type": "code",
   "execution_count": 28,
   "id": "bed33e1c",
   "metadata": {},
   "outputs": [],
   "source": [
    "def sequencer(sm):\n",
    "    \n",
    "    sequence_length = 3 *  len(sm)\n",
    "    sequence = np.zeros(sequence_length , dtype = int)\n",
    "    \n",
    "    for i in range(sequence_length - 1):\n",
    "        \n",
    "        first_largest_index = m_th_largest_index(sm[sequence[i]] , 2)\n",
    "        second_largest_index = m_th_largest_index(sm[sequence[i]] , 3)\n",
    "        \n",
    "        if first_largest_index != sequence[i-1]: sequence[i+1] = first_largest_index\n",
    "        else: sequence[i+1] = second_largest_index\n",
    "            \n",
    "    return sequence"
   ]
  },
  {
   "cell_type": "code",
   "execution_count": 29,
   "id": "aab9539b",
   "metadata": {},
   "outputs": [],
   "source": [
    "def process_iteration(i, f, N, L):\n",
    "\n",
    "    mrs = np.array([[1 if npr.rand() < f else 0 for _ in range(N)] for _ in range(L)])\n",
    "    sm = np.array([[np.dot(mrs[k], mrs[j]) for j in range(L)] for k in range(L)])\n",
    "    return len(np.unique(sequencer(sm)))"
   ]
  },
  {
   "cell_type": "code",
   "execution_count": 30,
   "id": "e5a1791f",
   "metadata": {},
   "outputs": [],
   "source": [
    "def process_iteration_wrapper(args):\n",
    "    return process_iteration(*args)"
   ]
  },
  {
   "cell_type": "code",
   "execution_count": 60,
   "id": "ba77864f",
   "metadata": {},
   "outputs": [
    {
     "name": "stderr",
     "output_type": "stream",
     "text": [
      "C:\\ProgramData\\Anaconda3\\lib\\site-packages\\distributed\\node.py:179: UserWarning: Port 8787 is already in use.\n",
      "Perhaps you already have a cluster running?\n",
      "Hosting the HTTP server on port 3729 instead\n",
      "  warnings.warn(\n"
     ]
    },
    {
     "name": "stdout",
     "output_type": "stream",
     "text": [
      "Dask Dashboard URL: http://127.0.0.1:3729/status\n"
     ]
    }
   ],
   "source": [
    "# Create a local cluster with multiple processes (or threads)\n",
    "\n",
    "cluster = LocalCluster(n_workers=4, threads_per_worker=1)\n",
    "client = Client(cluster)"
   ]
  },
  {
   "cell_type": "code",
   "execution_count": 64,
   "id": "2c49384b",
   "metadata": {},
   "outputs": [
    {
     "data": {
      "application/vnd.jupyter.widget-view+json": {
       "model_id": "d22c1a93581f457f83194994329dbdf7",
       "version_major": 2,
       "version_minor": 0
      },
      "text/plain": [
       "Tab(children=(HTML(value='<div class=\"jp-RenderedHTMLCommon jp-RenderedHTML jp-mod-trusted jp-OutputArea-outpu…"
      ]
     },
     "metadata": {},
     "output_type": "display_data"
    },
    {
     "name": "stderr",
     "output_type": "stream",
     "text": [
      "2024-01-01 13:36:11,599 - distributed.scheduler - WARNING - Worker failed to heartbeat within 300 seconds. Closing: <WorkerState 'tcp://127.0.0.1:2298', name: 2, status: running, memory: 0, processing: 0>\n",
      "2024-01-01 13:36:11,613 - distributed.scheduler - WARNING - Worker failed to heartbeat within 300 seconds. Closing: <WorkerState 'tcp://127.0.0.1:2238', name: 0, status: running, memory: 0, processing: 0>\n",
      "2024-01-01 13:36:11,614 - distributed.scheduler - WARNING - Worker failed to heartbeat within 300 seconds. Closing: <WorkerState 'tcp://127.0.0.1:2304', name: 0, status: running, memory: 0, processing: 0>\n",
      "2024-01-01 13:36:12,104 - distributed.scheduler - WARNING - Worker failed to heartbeat within 300 seconds. Closing: <WorkerState 'tcp://127.0.0.1:2244', name: 2, status: running, memory: 0, processing: 0>\n",
      "2024-01-01 13:36:12,109 - distributed.scheduler - WARNING - Received heartbeat from unregistered worker 'tcp://127.0.0.1:2304'.\n",
      "2024-01-01 13:36:12,178 - distributed.scheduler - WARNING - Received heartbeat from unregistered worker 'tcp://127.0.0.1:2298'.\n",
      "2024-01-01 13:36:12,193 - distributed.scheduler - WARNING - Received heartbeat from unregistered worker 'tcp://127.0.0.1:2244'.\n",
      "2024-01-01 13:36:12,225 - distributed.scheduler - WARNING - Received heartbeat from unregistered worker 'tcp://127.0.0.1:2238'.\n"
     ]
    }
   ],
   "source": [
    "cluster"
   ]
  },
  {
   "cell_type": "code",
   "execution_count": 61,
   "id": "c9c0c2bc",
   "metadata": {},
   "outputs": [],
   "source": [
    "f = 0.01\n",
    "T = 20\n",
    "N = 100000\n",
    "L = 500\n",
    "\n",
    "\n",
    "futures = client.map(process_iteration_wrapper, [(i, f, N, L) for i in range(T)])"
   ]
  },
  {
   "cell_type": "code",
   "execution_count": 62,
   "id": "92e39931",
   "metadata": {},
   "outputs": [
    {
     "name": "stdout",
     "output_type": "stream",
     "text": [
      "Elapsed time: 298.81 seconds\n"
     ]
    }
   ],
   "source": [
    "start_time = time.time() \n",
    "\n",
    "results = client.gather(futures)\n",
    "\n",
    "end_time = time.time()  \n",
    "\n",
    "elapsed_time = end_time - start_time\n",
    "print(f\"Elapsed time: {elapsed_time:.2f} seconds\")"
   ]
  },
  {
   "cell_type": "code",
   "execution_count": 63,
   "id": "ed525144",
   "metadata": {},
   "outputs": [
    {
     "name": "stdout",
     "output_type": "stream",
     "text": [
      "35.85 19.2204968718293\n"
     ]
    }
   ],
   "source": [
    "Rs = np.array(results)\n",
    "print(np.mean(Rs), np.std(Rs))"
   ]
  },
  {
   "cell_type": "code",
   "execution_count": 59,
   "id": "4de12407",
   "metadata": {},
   "outputs": [],
   "source": [
    "client.close()\n",
    "cluster.close()"
   ]
  },
  {
   "cell_type": "code",
   "execution_count": null,
   "id": "25af8313",
   "metadata": {},
   "outputs": [],
   "source": []
  }
 ],
 "metadata": {
  "kernelspec": {
   "display_name": "Python 3 (ipykernel)",
   "language": "python",
   "name": "python3"
  },
  "language_info": {
   "codemirror_mode": {
    "name": "ipython",
    "version": 3
   },
   "file_extension": ".py",
   "mimetype": "text/x-python",
   "name": "python",
   "nbconvert_exporter": "python",
   "pygments_lexer": "ipython3",
   "version": "3.9.13"
  }
 },
 "nbformat": 4,
 "nbformat_minor": 5
}
